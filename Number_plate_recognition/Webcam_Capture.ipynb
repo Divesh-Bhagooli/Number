{
 "cells": [
  {
   "cell_type": "code",
   "execution_count": 1,
   "metadata": {},
   "outputs": [
    {
     "name": "stdout",
     "output_type": "stream",
     "text": [
      "LicPlateImages0saved\n",
      "LicPlateImages1saved\n",
      "LicPlateImages2saved\n",
      "LicPlateImages3saved\n",
      "LicPlateImages4saved\n",
      "LicPlateImages5saved\n",
      "LicPlateImages6saved\n",
      "LicPlateImages7saved\n",
      "Close\n"
     ]
    },
    {
     "data": {
      "text/plain": [
       "<function destroyAllWindows>"
      ]
     },
     "execution_count": 1,
     "metadata": {},
     "output_type": "execute_result"
    }
   ],
   "source": [
    "import cv2 # importing cv2 liberary\n",
    "\n",
    "cam = cv2.VideoCapture(0)\n",
    "\n",
    "count = 0\n",
    "\n",
    "while True:\n",
    "    ret, img = cam.read()\n",
    "\n",
    "    cv2.imshow(\"Test\", img)\n",
    "\n",
    "    if not ret:\n",
    "        break\n",
    "\n",
    "    k=cv2.waitKey(1)\n",
    "\n",
    "    if k%256==27:\n",
    "        #For Esc key\n",
    "        print(\"Close\")\n",
    "        break\n",
    "    elif k%256==32:\n",
    "        #For Space key\n",
    "\n",
    "        print(\"LicPlateImages\"+str(count)+\"saved\")\n",
    "        file='C:/Users/a/Documents/PolyProjects/Number_plate_recognition/LicPlateImages/25'+str(count)+'.jpg'\n",
    "        cv2.imwrite(file, img)\n",
    "        count +=1\n",
    "\n",
    "cam.release\n",
    "cv2.destroyAllWindows"
   ]
  },
  {
   "cell_type": "code",
   "execution_count": null,
   "metadata": {},
   "outputs": [],
   "source": []
  }
 ],
 "metadata": {
  "kernelspec": {
   "display_name": "Python 3",
   "language": "python",
   "name": "python3"
  },
  "language_info": {
   "codemirror_mode": {
    "name": "ipython",
    "version": 3
   },
   "file_extension": ".py",
   "mimetype": "text/x-python",
   "name": "python",
   "nbconvert_exporter": "python",
   "pygments_lexer": "ipython3",
   "version": "3.7.4"
  }
 },
 "nbformat": 4,
 "nbformat_minor": 2
}
